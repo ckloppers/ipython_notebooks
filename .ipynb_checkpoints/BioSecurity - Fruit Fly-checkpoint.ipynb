{
 "metadata": {
  "name": "",
  "signature": "sha256:381377ab1aeb3f1f07762b470f925a1e412cf88a972bbbfb794ea7c226bc392b"
 },
 "nbformat": 3,
 "nbformat_minor": 0,
 "worksheets": [
  {
   "cells": [
    {
     "cell_type": "markdown",
     "metadata": {},
     "source": [
      "# Import mongodb driver\n",
      "## Connect to instance on cloud server: \n",
      "> 140.79.7.119"
     ]
    },
    {
     "cell_type": "markdown",
     "metadata": {},
     "source": [
      "## Setup and connection"
     ]
    },
    {
     "cell_type": "code",
     "collapsed": false,
     "input": [
      "from pymongo import MongoClient\n",
      "import gridfs\n",
      "import os\n",
      "\n",
      "db = MongoClient('140.79.7.119', 27017).gridfs_CatPics\n",
      "fs = gridfs.GridFS(db)\n",
      "\n",
      "print 'Successfully connected to gridfs'"
     ],
     "language": "python",
     "metadata": {},
     "outputs": [
      {
       "output_type": "stream",
       "stream": "stdout",
       "text": [
        "Successfully connected to gridfs\n"
       ]
      }
     ],
     "prompt_number": 5
    },
    {
     "cell_type": "markdown",
     "metadata": {},
     "source": [
      "## Saving and Retrieving Data"
     ]
    },
    {
     "cell_type": "code",
     "collapsed": false,
     "input": [
      "fileList = os.listdir('./CatPics')\n",
      "\n",
      "for fname in fileList:\n",
      "    currentFileName = './CatPics/' + fname\n",
      "    currentFile = open(currentFileName, 'r')\n",
      "    print currentFile\n",
      "    \n",
      "    metadata = {}\n",
      "    metadata['filename'] = fname\n",
      "    metadata['algorithm'] = ['insertROIDetector', 'list3']\n",
      "    metadata['moreMetaKey'] = 'moreMetaValue'\n",
      "    metadata['XXXXX'] = 'VVVVVV'\n",
      "    \n",
      "    fs.put(currentFile, **metadata)\n",
      "    \n",
      "    #fs.put(currentFile, filename=fname)\n",
      "    print 'Saved file:',fname\n",
      "    "
     ],
     "language": "python",
     "metadata": {},
     "outputs": [
      {
       "output_type": "stream",
       "stream": "stdout",
       "text": [
        "<open file './CatPics/1275052_10153309119985534_1715677084_o.jpg', mode 'r' at 0x1049ea420>\n",
        "Saved file:"
       ]
      },
      {
       "output_type": "stream",
       "stream": "stdout",
       "text": [
        " 1275052_10153309119985534_1715677084_o.jpg\n",
        "<open file './CatPics/1501027_10153692326800534_1777483917_o.jpg', mode 'r' at 0x1049ea1e0>\n",
        "Saved file: 1501027_10153692326800534_1777483917_o.jpg\n",
        "<open file './CatPics/1506184_10153648363730534_1802179200_o.jpg', mode 'r' at 0x1049ea420>\n",
        "Saved file: 1506184_10153648363730534_1802179200_o.jpg\n",
        "<open file './CatPics/1518162_10153630788250534_286123795_o.jpg', mode 'r' at 0x1049ea1e0>\n",
        "Saved file:"
       ]
      },
      {
       "output_type": "stream",
       "stream": "stdout",
       "text": [
        " 1518162_10153630788250534_286123795_o.jpg\n",
        "<open file './CatPics/1529838_10153730922370534_1483569974_o (1).jpg', mode 'r' at 0x1049ea420>\n",
        "Saved file: 1529838_10153730922370534_1483569974_o (1).jpg\n",
        "<open file './CatPics/1529838_10153730922370534_1483569974_o.jpg', mode 'r' at 0x1049ea1e0>\n",
        "Saved file: 1529838_10153730922370534_1483569974_o.jpg\n",
        "<open file './CatPics/1536642_10153658641055534_302727003_n.jpg', mode 'r' at 0x1049ea420>\n",
        "Saved file:"
       ]
      },
      {
       "output_type": "stream",
       "stream": "stdout",
       "text": [
        " 1536642_10153658641055534_302727003_n.jpg\n",
        "<open file './CatPics/281013_10152171449455534_2031990683_o.jpg', mode 'r' at 0x1049ea1e0>\n",
        "Saved file:"
       ]
      },
      {
       "output_type": "stream",
       "stream": "stdout",
       "text": [
        " 281013_10152171449455534_2031990683_o.jpg\n",
        "<open file './CatPics/465979_10151769251570534_672658104_o.jpg', mode 'r' at 0x1049ea420>\n",
        "Saved file: 465979_10151769251570534_672658104_o.jpg\n",
        "<open file './CatPics/470862_10151798082575534_909577327_o.jpg', mode 'r' at 0x1049ea1e0>\n",
        "Saved file:"
       ]
      },
      {
       "output_type": "stream",
       "stream": "stdout",
       "text": [
        " 470862_10151798082575534_909577327_o.jpg\n",
        "<open file './CatPics/479349_10151779395055534_154366798_o.jpg', mode 'r' at 0x1049ea420>\n",
        "Saved file: 479349_10151779395055534_154366798_o.jpg\n",
        "<open file './CatPics/537396_10152406510060534_1136051590_n.jpg', mode 'r' at 0x1049ea1e0>\n",
        "Saved file:"
       ]
      },
      {
       "output_type": "stream",
       "stream": "stdout",
       "text": [
        " 537396_10152406510060534_1136051590_n.jpg\n",
        "<open file './CatPics/736458_10152391906705534_1751603045_o.jpg', mode 'r' at 0x1049ea420>\n",
        "Saved file:"
       ]
      },
      {
       "output_type": "stream",
       "stream": "stdout",
       "text": [
        " 736458_10152391906705534_1751603045_o.jpg\n",
        "<open file './CatPics/774604_10152463001890534_901298280_o.jpg', mode 'r' at 0x1049ea1e0>\n",
        "Saved file: 774604_10152463001890534_901298280_o.jpg\n",
        "<open file './CatPics/819170_10152567820865534_1024235415_o.jpg', mode 'r' at 0x1049ea420>\n",
        "Saved file:"
       ]
      },
      {
       "output_type": "stream",
       "stream": "stdout",
       "text": [
        " 819170_10152567820865534_1024235415_o.jpg\n",
        "<open file './CatPics/823412_10152567797610534_651880385_o.jpg', mode 'r' at 0x1049ea1e0>\n",
        "Saved file: 823412_10152567797610534_651880385_o.jpg\n",
        "<open file './CatPics/IMG_20140405_220635.jpg', mode 'r' at 0x1049ea420>\n",
        "Saved file:"
       ]
      },
      {
       "output_type": "stream",
       "stream": "stdout",
       "text": [
        " IMG_20140405_220635.jpg\n",
        "<open file './CatPics/IMG_20140605_063002.jpg', mode 'r' at 0x1049ea1e0>\n",
        "Saved file:"
       ]
      },
      {
       "output_type": "stream",
       "stream": "stdout",
       "text": [
        " IMG_20140605_063002.jpg\n"
       ]
      }
     ],
     "prompt_number": 6
    },
    {
     "cell_type": "code",
     "collapsed": false,
     "input": [
      "fs.exists(filename='/BOGUS_FOLDER/281013_10152171449455534_2031990683_o.jpg')\n",
      "\n",
      "out_grid = fs.get_version('/BOGUS_FOLDER/281013_10152171449455534_2031990683_o.jpg').read()\n",
      "\n",
      "outFile = open('QING.JPG', 'w')\n",
      "outFile.write(out_grid)"
     ],
     "language": "python",
     "metadata": {},
     "outputs": [],
     "prompt_number": 5
    },
    {
     "cell_type": "code",
     "collapsed": false,
     "input": [],
     "language": "python",
     "metadata": {},
     "outputs": []
    }
   ],
   "metadata": {}
  }
 ]
}