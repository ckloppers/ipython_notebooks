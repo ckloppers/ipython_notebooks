{
 "metadata": {
  "name": "",
  "signature": "sha256:f66c59a857edf6588b48aaebe64d703501e5b309a3e4daa5b67c2d769ea5f681"
 },
 "nbformat": 3,
 "nbformat_minor": 0,
 "worksheets": []
}