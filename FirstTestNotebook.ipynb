{
 "metadata": {
  "name": "",
  "signature": "sha256:8a76c7eec7471d6529276d9daf7fa260926ba901696363240c0547aea67c7310"
 },
 "nbformat": 3,
 "nbformat_minor": 0,
 "worksheets": [
  {
   "cells": [
    {
     "cell_type": "markdown",
     "metadata": {},
     "source": [
      "* First Test"
     ]
    },
    {
     "cell_type": "markdown",
     "metadata": {},
     "source": [
      "* HEADING\n",
      "\n",
      "$\\theta$"
     ]
    },
    {
     "cell_type": "code",
     "collapsed": false,
     "input": [
      "print 'Test'"
     ],
     "language": "python",
     "metadata": {},
     "outputs": [
      {
       "output_type": "stream",
       "stream": "stdout",
       "text": [
        "Test\n"
       ]
      }
     ],
     "prompt_number": 1
    }
   ],
   "metadata": {}
  }
 ]
}